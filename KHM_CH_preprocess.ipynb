{
 "cells": [
  {
   "cell_type": "markdown",
   "metadata": {},
   "source": [
    "# Alive & Thrive\n",
    "## Laos Data: Child Files - Preprocessing\n",
    "## Prepared by Aaron Wise; aaron@a3di.dev\n",
    "### Version: 30 September 2022"
   ]
  },
  {
   "cell_type": "code",
   "execution_count": 1,
   "metadata": {},
   "outputs": [],
   "source": [
    "from std_utils import (\n",
    "    read_spss_file,\n",
    "    generate_HHID,\n",
    "    add_total_year,\n",
    "    run_quality_assurance,\n",
    "    merge_hh_hl_data,\n",
    "    export_analyzed_data\n",
    ")\n",
    "\n",
    "from children_analysis import (\n",
    "    subset_children_file,\n",
    "    create_sex_ch,\n",
    "    create_ch_age_cat,\n",
    "    create_excl_bf,\n",
    "    create_cont_1223_bf,\n",
    "    create_mdd_ch,\n",
    "    create_mmf_ch,\n",
    "    create_mad_ch\n",
    ")\n",
    "\n",
    "from women_analysis import create_mother_edu, divide_weight_million\n",
    "from aw_analytics import output_mean_table\n",
    "\n",
    "import numpy as np\n",
    "import pandas as pd\n",
    "\n",
    "pd.set_option(\"display.max_rows\", 1500)\n",
    "pd.set_option(\"display.max_columns\", None)\n"
   ]
  },
  {
   "cell_type": "markdown",
   "metadata": {},
   "source": [
    "### --- 2014 ---"
   ]
  },
  {
   "cell_type": "code",
   "execution_count": null,
   "metadata": {},
   "outputs": [],
   "source": [
    "# Set parameters\n",
    "country = 'KHM'\n",
    "recode = 'children'\n",
    "\n",
    "# -------------------------------------------------------------------\n",
    "year = '2014'\n",
    "# -------------------------------------------------------------------"
   ]
  },
  {
   "cell_type": "code",
   "execution_count": null,
   "metadata": {},
   "outputs": [],
   "source": [
    "# Read file\n",
    "df = read_spss_file(country, year, recode)\n",
    "\n",
    "# Create HHID to facilitate merge of HH and HL data\n",
    "generate_HHID(df, country, year, recode)\n",
    "\n",
    "# Add Total, Year\n",
    "add_total_year(df, year)\n",
    "\n",
    "# Run quality assurance\n",
    "run_quality_assurance(df)\n",
    "\n",
    "# Merge in HH and HL data\n",
    "df = merge_hh_hl_data(df, country, year)\n",
    "\n",
    "# Subset children's file (completed)\n",
    "df = subset_children_file(df, country, year)"
   ]
  },
  {
   "cell_type": "markdown",
   "metadata": {},
   "source": [
    "#### Create Indicators"
   ]
  },
  {
   "cell_type": "code",
   "execution_count": null,
   "metadata": {},
   "outputs": [],
   "source": [
    "# --- Child Sex [sex_ch] --- #\n",
    "df = create_sex_ch(df, country, year)\n",
    "\n",
    "# --- Mother Education [mother_edu] --- #\n",
    "df = create_mother_edu(df, country, year, recode = 'children')\n",
    "\n",
    "# --- Age categories [ch_age_cat_X] --- #\n",
    "df = create_ch_age_cat(df, country, year)\n",
    "\n",
    "# Update weight\n",
    "df = divide_weight_million(df, country, year, recode)"
   ]
  },
  {
   "cell_type": "code",
   "execution_count": null,
   "metadata": {},
   "outputs": [],
   "source": [
    "# --- Exclusive BF [excl_bf] --- #\n",
    "df = create_excl_bf(df, country, year)\n",
    "\n",
    "# --- Continued Breastfeeding 12-23 mos [cont_1223_bf] --- #\n",
    "df = create_cont_1223_bf(df, country, year)\n",
    "\n",
    "# --- Minimum Dietary Diversity [mdd_ch] --- #\n",
    "df = create_mdd_ch(df, country, year)\n",
    "\n",
    "# --- Minimum Meal Frequency [mmf_ch] --- #\n",
    "df = create_mmf_ch(df, country, year)\n",
    "\n",
    "# --- Minimum Acceptable Diet [mad_ch] --- #\n",
    "df = create_mad_ch(df)"
   ]
  },
  {
   "cell_type": "markdown",
   "metadata": {},
   "source": [
    "#### Subset and export working dataset"
   ]
  },
  {
   "cell_type": "code",
   "execution_count": null,
   "metadata": {},
   "outputs": [],
   "source": [
    "export_analyzed_data(df, country, year, recode)"
   ]
  },
  {
   "cell_type": "markdown",
   "metadata": {},
   "source": [
    "### --- 2010 ---"
   ]
  },
  {
   "cell_type": "code",
   "execution_count": null,
   "metadata": {},
   "outputs": [],
   "source": [
    "# Set parameters\n",
    "country = 'KHM'\n",
    "recode = 'children'\n",
    "\n",
    "# -------------------------------------------------------------------\n",
    "year = '2010'\n",
    "# -------------------------------------------------------------------"
   ]
  },
  {
   "cell_type": "code",
   "execution_count": null,
   "metadata": {},
   "outputs": [],
   "source": [
    "# Read file\n",
    "df = read_spss_file(country, year, recode)\n",
    "\n",
    "# Create HHID to facilitate merge of HH and HL data\n",
    "generate_HHID(df, country, year, recode)\n",
    "\n",
    "# Add Total, Year\n",
    "add_total_year(df, year)\n",
    "\n",
    "# Run quality assurance\n",
    "run_quality_assurance(df)\n",
    "\n",
    "# Merge in HH and HL data\n",
    "df = merge_hh_hl_data(df, country, year)\n",
    "\n",
    "# Subset children's file (completed)\n",
    "df = subset_children_file(df, country, year)"
   ]
  },
  {
   "cell_type": "markdown",
   "metadata": {},
   "source": [
    "#### Create indicators"
   ]
  },
  {
   "cell_type": "code",
   "execution_count": null,
   "metadata": {},
   "outputs": [],
   "source": [
    "# --- Child Sex [sex_ch] --- #\n",
    "df = create_sex_ch(df, country, year)\n",
    "\n",
    "# --- Mother Education [mother_edu] --- #\n",
    "df = create_mother_edu(df, country, year, recode = 'children')\n",
    "\n",
    "# --- Age categories [ch_age_cat_X] --- #\n",
    "df = create_ch_age_cat(df, country, year)\n",
    "\n",
    "# Update weight\n",
    "df = divide_weight_million(df, country, year, recode)"
   ]
  },
  {
   "cell_type": "code",
   "execution_count": null,
   "metadata": {},
   "outputs": [],
   "source": [
    "# --- Exclusive BF [excl_bf] --- #\n",
    "df = create_excl_bf(df, country, year)\n",
    "\n",
    "# --- Continued Breastfeeding 12-23 mos [cont_1223_bf] --- #\n",
    "df = create_cont_1223_bf(df, country, year)\n",
    "\n",
    "# --- Minimum Dietary Diversity [mdd_ch] --- #\n",
    "df = create_mdd_ch(df, country, year)\n",
    "\n",
    "# --- Minimum Meal Frequency [mmf_ch] --- #\n",
    "df = create_mmf_ch(df, country, year)\n",
    "\n",
    "# --- Minimum Acceptable Diet [mad_ch] --- #\n",
    "df = create_mad_ch(df)"
   ]
  },
  {
   "cell_type": "markdown",
   "metadata": {},
   "source": [
    "#### Subset and export working dataset"
   ]
  },
  {
   "cell_type": "code",
   "execution_count": null,
   "metadata": {},
   "outputs": [],
   "source": [
    "export_analyzed_data(df, country, year, recode)"
   ]
  },
  {
   "cell_type": "markdown",
   "metadata": {},
   "source": [
    "### --- 2005 ---"
   ]
  },
  {
   "cell_type": "code",
   "execution_count": null,
   "metadata": {},
   "outputs": [],
   "source": [
    "# Set parameters\n",
    "country = 'KHM'\n",
    "recode = 'children'\n",
    "\n",
    "# -------------------------------------------------------------------\n",
    "year = '2005'\n",
    "# -------------------------------------------------------------------"
   ]
  },
  {
   "cell_type": "code",
   "execution_count": null,
   "metadata": {},
   "outputs": [],
   "source": [
    "# Read file\n",
    "df = read_spss_file(country, year, recode)\n",
    "\n",
    "# Create HHID to facilitate merge of HH and HL data\n",
    "generate_HHID(df, country, year, recode)\n",
    "\n",
    "# Add Total, Year\n",
    "add_total_year(df, year)\n",
    "\n",
    "# Run quality assurance\n",
    "run_quality_assurance(df)\n",
    "\n",
    "# Merge in HH and HL data\n",
    "df = merge_hh_hl_data(df, country, year)\n",
    "\n",
    "# Subset children's file (completed)\n",
    "df = subset_children_file(df, country, year)"
   ]
  },
  {
   "cell_type": "markdown",
   "metadata": {},
   "source": [
    "#### Create indicators"
   ]
  },
  {
   "cell_type": "code",
   "execution_count": null,
   "metadata": {},
   "outputs": [],
   "source": [
    "# --- Child Sex [sex_ch] --- #\n",
    "df = create_sex_ch(df, country, year)\n",
    "\n",
    "# --- Mother Education [mother_edu] --- #\n",
    "df = create_mother_edu(df, country, year, recode = 'children')\n",
    "\n",
    "# --- Age categories [ch_age_cat_X] --- #\n",
    "df = create_ch_age_cat(df, country, year)\n",
    "\n",
    "# Update weight\n",
    "df = divide_weight_million(df, country, year, recode)"
   ]
  },
  {
   "cell_type": "code",
   "execution_count": null,
   "metadata": {},
   "outputs": [],
   "source": [
    "# --- Exclusive BF [excl_bf] --- #\n",
    "df = create_excl_bf(df, country, year)\n",
    "\n",
    "# --- Continued Breastfeeding 12-23 mos [cont_1223_bf] --- #\n",
    "df = create_cont_1223_bf(df, country, year)\n",
    "\n",
    "# --- Minimum Dietary Diversity [mdd_ch] --- #\n",
    "df = create_mdd_ch(df, country, year)\n",
    "\n",
    "# # --- Minimum Meal Frequency [mmf_ch] --- #\n",
    "# df = create_mmf_ch(df, country, year)\n",
    "\n",
    "# # --- Minimum Acceptable Diet [mad_ch] --- #\n",
    "# df = create_mad_ch(df)"
   ]
  },
  {
   "cell_type": "markdown",
   "metadata": {},
   "source": [
    "#### Subset and export working dataset"
   ]
  },
  {
   "cell_type": "code",
   "execution_count": null,
   "metadata": {},
   "outputs": [],
   "source": [
    "export_analyzed_data(df, country, year, recode)"
   ]
  },
  {
   "cell_type": "markdown",
   "metadata": {},
   "source": [
    "### --- 2000 ---"
   ]
  },
  {
   "cell_type": "code",
   "execution_count": 2,
   "metadata": {},
   "outputs": [],
   "source": [
    "# Set parameters\n",
    "country = 'KHM'\n",
    "recode = 'children'\n",
    "\n",
    "# -------------------------------------------------------------------\n",
    "year = '2000'\n",
    "# -------------------------------------------------------------------"
   ]
  },
  {
   "cell_type": "code",
   "execution_count": 3,
   "metadata": {},
   "outputs": [
    {
     "name": "stdout",
     "output_type": "stream",
     "text": [
      "The file -- ch_2000.sav -- has the following shape: Rows: 8834; Columns: 862\n",
      "HHID is NOT unique\n",
      "Drop columns if all values are NaN...\n",
      "Updated -- Rows: 8834; Columns: 685\n",
      "Checking if any rows are duplicates...\n",
      "The are no duplicate rows\n",
      "The number of children with a completed survey is: 8834\n"
     ]
    }
   ],
   "source": [
    "# Read file\n",
    "df = read_spss_file(country, year, recode)\n",
    "\n",
    "# Create HHID to facilitate merge of HH and HL data\n",
    "generate_HHID(df, country, year, recode)\n",
    "\n",
    "# Add Total, Year\n",
    "add_total_year(df, year)\n",
    "\n",
    "# Run quality assurance\n",
    "run_quality_assurance(df)\n",
    "\n",
    "# Merge in HH and HL data\n",
    "df = merge_hh_hl_data(df, country, year)\n",
    "\n",
    "# Subset children's file (completed)\n",
    "df = subset_children_file(df, country, year)"
   ]
  },
  {
   "cell_type": "markdown",
   "metadata": {},
   "source": [
    "#### Create indicators"
   ]
  },
  {
   "cell_type": "code",
   "execution_count": 4,
   "metadata": {},
   "outputs": [
    {
     "name": "stderr",
     "output_type": "stream",
     "text": [
      "c:\\Users\\Lindsey\\OneDrive - A3DI\\Alive & Thrive\\4_Country_III\\children_analysis.py:106: SettingWithCopyWarning: \n",
      "A value is trying to be set on a copy of a slice from a DataFrame.\n",
      "Try using .loc[row_indexer,col_indexer] = value instead\n",
      "\n",
      "See the caveats in the documentation: https://pandas.pydata.org/pandas-docs/stable/user_guide/indexing.html#returning-a-view-versus-a-copy\n",
      "  df[\"ch_age_cat_0_5\"] = np.where(df[\"age_in_months\"] <= 5, 100, 0)\n",
      "c:\\Users\\Lindsey\\OneDrive - A3DI\\Alive & Thrive\\4_Country_III\\children_analysis.py:107: SettingWithCopyWarning: \n",
      "A value is trying to be set on a copy of a slice from a DataFrame.\n",
      "Try using .loc[row_indexer,col_indexer] = value instead\n",
      "\n",
      "See the caveats in the documentation: https://pandas.pydata.org/pandas-docs/stable/user_guide/indexing.html#returning-a-view-versus-a-copy\n",
      "  df[\"ch_age_cat_6_8\"] = np.where((df[\"age_in_months\"] >= 6) & (df[\"age_in_months\"] <= 8), 100, 0)\n",
      "c:\\Users\\Lindsey\\OneDrive - A3DI\\Alive & Thrive\\4_Country_III\\children_analysis.py:108: SettingWithCopyWarning: \n",
      "A value is trying to be set on a copy of a slice from a DataFrame.\n",
      "Try using .loc[row_indexer,col_indexer] = value instead\n",
      "\n",
      "See the caveats in the documentation: https://pandas.pydata.org/pandas-docs/stable/user_guide/indexing.html#returning-a-view-versus-a-copy\n",
      "  df[\"ch_age_cat_9_23\"] = np.where((df[\"age_in_months\"] >= 9) & (df[\"age_in_months\"] <= 23), 100, 0)\n",
      "c:\\Users\\Lindsey\\OneDrive - A3DI\\Alive & Thrive\\4_Country_III\\children_analysis.py:109: SettingWithCopyWarning: \n",
      "A value is trying to be set on a copy of a slice from a DataFrame.\n",
      "Try using .loc[row_indexer,col_indexer] = value instead\n",
      "\n",
      "See the caveats in the documentation: https://pandas.pydata.org/pandas-docs/stable/user_guide/indexing.html#returning-a-view-versus-a-copy\n",
      "  df[\"ch_age_cat_12_23\"] = np.where((df[\"age_in_months\"] >= 12) & (df[\"age_in_months\"] <= 23), 100, 0)\n",
      "c:\\Users\\Lindsey\\OneDrive - A3DI\\Alive & Thrive\\4_Country_III\\children_analysis.py:110: SettingWithCopyWarning: \n",
      "A value is trying to be set on a copy of a slice from a DataFrame.\n",
      "Try using .loc[row_indexer,col_indexer] = value instead\n",
      "\n",
      "See the caveats in the documentation: https://pandas.pydata.org/pandas-docs/stable/user_guide/indexing.html#returning-a-view-versus-a-copy\n",
      "  df[\"ch_age_cat_6_23\"] = np.where((df[\"age_in_months\"] >= 6) & (df[\"age_in_months\"] <= 23), 100, 0)\n",
      "c:\\Users\\Lindsey\\OneDrive - A3DI\\Alive & Thrive\\4_Country_III\\children_analysis.py:111: SettingWithCopyWarning: \n",
      "A value is trying to be set on a copy of a slice from a DataFrame.\n",
      "Try using .loc[row_indexer,col_indexer] = value instead\n",
      "\n",
      "See the caveats in the documentation: https://pandas.pydata.org/pandas-docs/stable/user_guide/indexing.html#returning-a-view-versus-a-copy\n",
      "  df[\"ch_age_cat_6_59\"] = np.where((df[\"age_in_months\"] >= 6) & (df[\"age_in_months\"] <= 59), 100, 0)\n",
      "c:\\Users\\Lindsey\\OneDrive - A3DI\\Alive & Thrive\\4_Country_III\\women_analysis.py:315: SettingWithCopyWarning: \n",
      "A value is trying to be set on a copy of a slice from a DataFrame.\n",
      "Try using .loc[row_indexer,col_indexer] = value instead\n",
      "\n",
      "See the caveats in the documentation: https://pandas.pydata.org/pandas-docs/stable/user_guide/indexing.html#returning-a-view-versus-a-copy\n",
      "  df[\"chweight\"] = df[var_weight] / 1000000\n"
     ]
    }
   ],
   "source": [
    "# --- Child Sex [sex_ch] --- #\n",
    "df = create_sex_ch(df, country, year)\n",
    "\n",
    "# --- Mother Education [mother_edu] --- #\n",
    "df = create_mother_edu(df, country, year, recode = 'children')\n",
    "\n",
    "# --- Age categories [ch_age_cat_X] --- #\n",
    "df = create_ch_age_cat(df, country, year)\n",
    "\n",
    "# Update weight\n",
    "df = divide_weight_million(df, country, year, recode)"
   ]
  },
  {
   "cell_type": "code",
   "execution_count": 5,
   "metadata": {},
   "outputs": [
    {
     "name": "stderr",
     "output_type": "stream",
     "text": [
      "c:\\Users\\Lindsey\\OneDrive - A3DI\\Alive & Thrive\\4_Country_III\\children_analysis.py:454: SettingWithCopyWarning: \n",
      "A value is trying to be set on a copy of a slice from a DataFrame.\n",
      "Try using .loc[row_indexer,col_indexer] = value instead\n",
      "\n",
      "See the caveats in the documentation: https://pandas.pydata.org/pandas-docs/stable/user_guide/indexing.html#returning-a-view-versus-a-copy\n",
      "  df['breastmilk'] = np.where(df[var_breastmilk] == breastmilk_yes_values, 100, 0)\n",
      "c:\\Users\\Lindsey\\OneDrive - A3DI\\Alive & Thrive\\4_Country_III\\children_analysis.py:159: SettingWithCopyWarning: \n",
      "A value is trying to be set on a copy of a slice from a DataFrame.\n",
      "Try using .loc[row_indexer,col_indexer] = value instead\n",
      "\n",
      "See the caveats in the documentation: https://pandas.pydata.org/pandas-docs/stable/user_guide/indexing.html#returning-a-view-versus-a-copy\n",
      "  df['cont_1223_bf'] = np.where(df['breastmilk'] == 100, 100, 0)\n",
      "c:\\Users\\Lindsey\\OneDrive - A3DI\\Alive & Thrive\\4_Country_III\\children_analysis.py:160: SettingWithCopyWarning: \n",
      "A value is trying to be set on a copy of a slice from a DataFrame.\n",
      "Try using .loc[row_indexer,col_indexer] = value instead\n",
      "\n",
      "See the caveats in the documentation: https://pandas.pydata.org/pandas-docs/stable/user_guide/indexing.html#returning-a-view-versus-a-copy\n",
      "  df['cont_1223_bf'] = np.where(df['ch_age_cat_12_23'] == 0, np.nan, df['cont_1223_bf'])\n"
     ]
    }
   ],
   "source": [
    "# # --- Exclusive BF [excl_bf] --- #\n",
    "# df = create_excl_bf(df, country, year)\n",
    "\n",
    "# --- Continued Breastfeeding 12-23 mos [cont_1223_bf] --- #\n",
    "df = create_cont_1223_bf(df, country, year)\n",
    "\n",
    "# # --- Minimum Dietary Diversity [mdd_ch] --- #\n",
    "# df = create_mdd_ch(df, country, year)\n",
    "\n",
    "# # --- Minimum Meal Frequency [mmf_ch] --- #\n",
    "# df = create_mmf_ch(df, country, year)\n",
    "\n",
    "# # --- Minimum Acceptable Diet [mad_ch] --- #\n",
    "# df = create_mad_ch(df)"
   ]
  },
  {
   "cell_type": "markdown",
   "metadata": {},
   "source": [
    "#### Subset and export working dataset"
   ]
  },
  {
   "cell_type": "code",
   "execution_count": 6,
   "metadata": {},
   "outputs": [],
   "source": [
    "export_analyzed_data(df, country, year, recode)"
   ]
  },
  {
   "cell_type": "code",
   "execution_count": null,
   "metadata": {},
   "outputs": [],
   "source": []
  },
  {
   "cell_type": "code",
   "execution_count": null,
   "metadata": {},
   "outputs": [],
   "source": [
    "var = 'cont_1223_bf'\n",
    "ind_vars = ['Total']\n",
    "weight = ['chweight']\n",
    "\n",
    "output_mean_table(df, var, ind_vars, weight)"
   ]
  }
 ],
 "metadata": {
  "interpreter": {
   "hash": "d1219f75a05e3de399f75b6a0fa3fc1e1cfa3d08777c7149c1fd01787d780976"
  },
  "kernelspec": {
   "display_name": "Python 3.10.4 64-bit",
   "language": "python",
   "name": "python3"
  },
  "language_info": {
   "codemirror_mode": {
    "name": "ipython",
    "version": 3
   },
   "file_extension": ".py",
   "mimetype": "text/x-python",
   "name": "python",
   "nbconvert_exporter": "python",
   "pygments_lexer": "ipython3",
   "version": "3.10.4"
  },
  "orig_nbformat": 4
 },
 "nbformat": 4,
 "nbformat_minor": 2
}
