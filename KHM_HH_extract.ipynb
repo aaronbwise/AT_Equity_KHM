{
 "cells": [
  {
   "cell_type": "markdown",
   "metadata": {},
   "source": [
    "## Extract HH variables for equity stratifiers\n",
    "### ** Residence, Region, Wealth, Ethnicity of HoH **"
   ]
  },
  {
   "cell_type": "code",
   "execution_count": 1,
   "metadata": {},
   "outputs": [],
   "source": [
    "from std_utils import (\n",
    "    read_spss_file,\n",
    "    generate_HHID,\n",
    "    standardize_col_names,\n",
    "    standardize_col_values,\n",
    "    save_merge\n",
    ")"
   ]
  },
  {
   "cell_type": "code",
   "execution_count": 2,
   "metadata": {},
   "outputs": [],
   "source": [
    "# Set parameters\n",
    "country = 'KHM'\n",
    "recode = 'household'\n",
    "\n",
    "recode1 = 'wealth'\n",
    "\n",
    "var_rename = ['residence', 'region', 'wealth']\n",
    "var_replace = ['region', 'wealth']\n",
    "\n",
    "# -------------------------------------------------------------------\n",
    "year_list = ['2000', '2005', '2010', '2014']\n",
    "# -------------------------------------------------------------------\n"
   ]
  },
  {
   "cell_type": "code",
   "execution_count": 3,
   "metadata": {},
   "outputs": [
    {
     "name": "stdout",
     "output_type": "stream",
     "text": [
      "The file -- hh_2000.sav -- has the following shape: Rows: 12236; Columns: 1532\n",
      "The file -- wealth_2000.sav -- has the following shape: Rows: 12236; Columns: 3\n",
      "HHID is unique\n",
      "The file -- hh_2005.sav -- has the following shape: Rows: 14243; Columns: 2998\n",
      "HHID is unique\n",
      "The file -- hh_2010.sav -- has the following shape: Rows: 15667; Columns: 2013\n",
      "HHID is unique\n",
      "The file -- hh_2014.sav -- has the following shape: Rows: 15825; Columns: 1873\n",
      "HHID is unique\n"
     ]
    }
   ],
   "source": [
    "for year in year_list:\n",
    "\n",
    "    # Read file\n",
    "    df = read_spss_file(country, year, recode)\n",
    "\n",
    "    if year == '2000':\n",
    "        wealth = read_spss_file(country, year, recode1)\n",
    "        df = df.merge(wealth, left_on='HHID', right_on='WHHID', how='left')\n",
    "\n",
    "    else:\n",
    "        pass\n",
    "\n",
    "    # Create HHID to facilitate merge of HH and HL data\n",
    "    generate_HHID(df, country, year, recode)\n",
    "\n",
    "    # Standardize column names\n",
    "    df = standardize_col_names(df, country, year, recode, var_rename)\n",
    "\n",
    "    # Standardize column values\n",
    "    df = standardize_col_values(df, country, year, recode, var_replace)\n",
    "\n",
    "    # Save to merge folder\n",
    "    save_merge(df, country, year, recode)"
   ]
  },
  {
   "cell_type": "code",
   "execution_count": null,
   "metadata": {},
   "outputs": [],
   "source": []
  }
 ],
 "metadata": {
  "interpreter": {
   "hash": "d1219f75a05e3de399f75b6a0fa3fc1e1cfa3d08777c7149c1fd01787d780976"
  },
  "kernelspec": {
   "display_name": "Python 3.10.4 64-bit",
   "language": "python",
   "name": "python3"
  },
  "language_info": {
   "codemirror_mode": {
    "name": "ipython",
    "version": 3
   },
   "file_extension": ".py",
   "mimetype": "text/x-python",
   "name": "python",
   "nbconvert_exporter": "python",
   "pygments_lexer": "ipython3",
   "version": "3.10.4"
  },
  "orig_nbformat": 4
 },
 "nbformat": 4,
 "nbformat_minor": 2
}
