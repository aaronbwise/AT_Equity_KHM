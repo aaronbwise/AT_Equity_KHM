{
 "cells": [
  {
   "cell_type": "markdown",
   "metadata": {},
   "source": [
    "### Cambodia Anthro analysis"
   ]
  },
  {
   "cell_type": "code",
   "execution_count": 1,
   "metadata": {},
   "outputs": [],
   "source": [
    "import numpy as np\n",
    "import pandas as pd\n",
    "\n",
    "pd.set_option(\"display.max_rows\", 1500)\n",
    "pd.set_option(\"display.max_columns\", None)\n",
    "\n",
    "from std_utils import (\n",
    "    read_spss_file,\n",
    "    generate_HHID,\n",
    "    add_total_year,\n",
    "    run_quality_assurance,\n",
    "    merge_hh_hl_data,\n",
    "    export_analyzed_data\n",
    ")\n",
    "\n",
    "from children_analysis import (\n",
    "    create_sex_ch,\n",
    "    create_stunting_ch,\n",
    "    create_wasting_ch,\n",
    "    create_overweight_ch\n",
    ")\n",
    "from women_analysis import create_mother_edu, divide_weight_million\n",
    "\n",
    "\n",
    "from aw_analytics import output_mean_table"
   ]
  },
  {
   "cell_type": "code",
   "execution_count": 17,
   "metadata": {},
   "outputs": [],
   "source": [
    "# Set parameters\n",
    "country = 'KHM'\n",
    "recode = 'anthro'\n",
    "\n",
    "recode1 = 'measurements'\n",
    "\n",
    "# -------------------------------------------------------------------\n",
    "year = '2000'\n",
    "# -------------------------------------------------------------------"
   ]
  },
  {
   "cell_type": "code",
   "execution_count": 18,
   "metadata": {},
   "outputs": [
    {
     "name": "stdout",
     "output_type": "stream",
     "text": [
      "The file -- anthro_2000.sav -- has the following shape: Rows: 66285; Columns: 327\n",
      "The file -- measurements_2000.sav -- has the following shape: Rows: 4031; Columns: 7\n",
      "HHID is NOT unique\n",
      "Drop columns if all values are NaN...\n",
      "Updated -- Rows: 66285; Columns: 322\n",
      "Checking if any rows are duplicates...\n",
      "The are no duplicate rows\n"
     ]
    }
   ],
   "source": [
    "# Read file\n",
    "df = read_spss_file(country, year, recode)\n",
    "\n",
    "if year in ['2005', '2000']:\n",
    "    measurements = read_spss_file(country, year, recode1)\n",
    "    df = pd.merge(df, measurements, left_on=['HHID', 'HVIDX'], right_on=['HWHHID', 'HWLINE'], how='left')\n",
    "\n",
    "# Create HHID to facilitate merge of HH and HL data\n",
    "generate_HHID(df, country, year, recode)\n",
    "\n",
    "# Add Total, Year\n",
    "add_total_year(df, year)\n",
    "\n",
    "# Run quality assurance\n",
    "run_quality_assurance(df)\n",
    "\n",
    "# Merge in HH and HL data\n",
    "df = merge_hh_hl_data(df, country, year)"
   ]
  },
  {
   "cell_type": "code",
   "execution_count": 19,
   "metadata": {},
   "outputs": [],
   "source": [
    "# --- Child Sex [sex_ch] --- #\n",
    "df = create_sex_ch(df, country, year, recode='anthro')\n",
    "\n",
    "# --- Mother Education [mother_edu] --- #\n",
    "df = create_mother_edu(df, country, year, recode = 'anthro')\n",
    "\n",
    "# Update weight\n",
    "df = divide_weight_million(df, country, year, recode='anthro')"
   ]
  },
  {
   "cell_type": "code",
   "execution_count": 20,
   "metadata": {},
   "outputs": [
    {
     "name": "stderr",
     "output_type": "stream",
     "text": [
      "c:\\Users\\Lindsey\\OneDrive - A3DI\\Alive & Thrive\\4_Country_III\\children_analysis.py:284: SettingWithCopyWarning: \n",
      "A value is trying to be set on a copy of a slice from a DataFrame.\n",
      "Try using .loc[row_indexer,col_indexer] = value instead\n",
      "\n",
      "See the caveats in the documentation: https://pandas.pydata.org/pandas-docs/stable/user_guide/indexing.html#returning-a-view-versus-a-copy\n",
      "  df[var_stunting_z] = pd.to_numeric(df[var_stunting_z].astype(str), errors='coerce')\n",
      "c:\\Users\\Lindsey\\OneDrive - A3DI\\Alive & Thrive\\4_Country_III\\children_analysis.py:288: SettingWithCopyWarning: \n",
      "A value is trying to be set on a copy of a slice from a DataFrame.\n",
      "Try using .loc[row_indexer,col_indexer] = value instead\n",
      "\n",
      "See the caveats in the documentation: https://pandas.pydata.org/pandas-docs/stable/user_guide/indexing.html#returning-a-view-versus-a-copy\n",
      "  df['stunting_ch'] = np.where(df[var_stunting_z]/100 < -2, 100, 0)\n",
      "c:\\Users\\Lindsey\\OneDrive - A3DI\\Alive & Thrive\\4_Country_III\\children_analysis.py:289: SettingWithCopyWarning: \n",
      "A value is trying to be set on a copy of a slice from a DataFrame.\n",
      "Try using .loc[row_indexer,col_indexer] = value instead\n",
      "\n",
      "See the caveats in the documentation: https://pandas.pydata.org/pandas-docs/stable/user_guide/indexing.html#returning-a-view-versus-a-copy\n",
      "  df['stunting_ch'] = np.where((df[var_stunting_z].isnull()), np.nan, df['stunting_ch'])\n",
      "c:\\Users\\Lindsey\\OneDrive - A3DI\\Alive & Thrive\\4_Country_III\\children_analysis.py:304: SettingWithCopyWarning: \n",
      "A value is trying to be set on a copy of a slice from a DataFrame.\n",
      "Try using .loc[row_indexer,col_indexer] = value instead\n",
      "\n",
      "See the caveats in the documentation: https://pandas.pydata.org/pandas-docs/stable/user_guide/indexing.html#returning-a-view-versus-a-copy\n",
      "  df[var_wasting_z] = pd.to_numeric(df[var_wasting_z].astype(str), errors='coerce')\n",
      "c:\\Users\\Lindsey\\OneDrive - A3DI\\Alive & Thrive\\4_Country_III\\children_analysis.py:308: SettingWithCopyWarning: \n",
      "A value is trying to be set on a copy of a slice from a DataFrame.\n",
      "Try using .loc[row_indexer,col_indexer] = value instead\n",
      "\n",
      "See the caveats in the documentation: https://pandas.pydata.org/pandas-docs/stable/user_guide/indexing.html#returning-a-view-versus-a-copy\n",
      "  df['wasting_ch'] = np.where(df[var_wasting_z]/100 < -2, 100, 0)\n",
      "c:\\Users\\Lindsey\\OneDrive - A3DI\\Alive & Thrive\\4_Country_III\\children_analysis.py:309: SettingWithCopyWarning: \n",
      "A value is trying to be set on a copy of a slice from a DataFrame.\n",
      "Try using .loc[row_indexer,col_indexer] = value instead\n",
      "\n",
      "See the caveats in the documentation: https://pandas.pydata.org/pandas-docs/stable/user_guide/indexing.html#returning-a-view-versus-a-copy\n",
      "  df['wasting_ch'] = np.where((df[var_wasting_z].isnull()), np.nan, df['wasting_ch'])\n",
      "c:\\Users\\Lindsey\\OneDrive - A3DI\\Alive & Thrive\\4_Country_III\\children_analysis.py:324: SettingWithCopyWarning: \n",
      "A value is trying to be set on a copy of a slice from a DataFrame.\n",
      "Try using .loc[row_indexer,col_indexer] = value instead\n",
      "\n",
      "See the caveats in the documentation: https://pandas.pydata.org/pandas-docs/stable/user_guide/indexing.html#returning-a-view-versus-a-copy\n",
      "  df[var_overweight_z] = pd.to_numeric(df[var_overweight_z].astype(str), errors='coerce')\n",
      "c:\\Users\\Lindsey\\OneDrive - A3DI\\Alive & Thrive\\4_Country_III\\children_analysis.py:328: SettingWithCopyWarning: \n",
      "A value is trying to be set on a copy of a slice from a DataFrame.\n",
      "Try using .loc[row_indexer,col_indexer] = value instead\n",
      "\n",
      "See the caveats in the documentation: https://pandas.pydata.org/pandas-docs/stable/user_guide/indexing.html#returning-a-view-versus-a-copy\n",
      "  df['overweight_ch'] = np.where(df[var_overweight_z]/100 > 2, 100, 0)\n",
      "c:\\Users\\Lindsey\\OneDrive - A3DI\\Alive & Thrive\\4_Country_III\\children_analysis.py:329: SettingWithCopyWarning: \n",
      "A value is trying to be set on a copy of a slice from a DataFrame.\n",
      "Try using .loc[row_indexer,col_indexer] = value instead\n",
      "\n",
      "See the caveats in the documentation: https://pandas.pydata.org/pandas-docs/stable/user_guide/indexing.html#returning-a-view-versus-a-copy\n",
      "  df['overweight_ch'] = np.where((df[var_overweight_z].isnull()), np.nan, df['overweight_ch'])\n"
     ]
    }
   ],
   "source": [
    "# --- Child Stunting (< -2SD) [stunting_ch] --- #\n",
    "df = create_stunting_ch(df, country, year)\n",
    "\n",
    "# --- Child Wasting (< -2SD) [wasting_ch] --- #\n",
    "df = create_wasting_ch(df, country, year)\n",
    "\n",
    "# --- Child Overweight (> 2SD) [overweight_ch] --- #\n",
    "df = create_overweight_ch(df, country, year)"
   ]
  },
  {
   "cell_type": "code",
   "execution_count": 21,
   "metadata": {},
   "outputs": [],
   "source": [
    "export_analyzed_data(df, country, year, recode)"
   ]
  },
  {
   "cell_type": "code",
   "execution_count": null,
   "metadata": {},
   "outputs": [],
   "source": []
  },
  {
   "cell_type": "code",
   "execution_count": null,
   "metadata": {},
   "outputs": [],
   "source": [
    "var = 'stunting_ch'\n",
    "ind_vars = ['sex_ch']\n",
    "weight = ['chweight']\n",
    "\n",
    "output_mean_table(df, var, ind_vars, weight)"
   ]
  }
 ],
 "metadata": {
  "kernelspec": {
   "display_name": "Python 3.10.4 64-bit",
   "language": "python",
   "name": "python3"
  },
  "language_info": {
   "codemirror_mode": {
    "name": "ipython",
    "version": 3
   },
   "file_extension": ".py",
   "mimetype": "text/x-python",
   "name": "python",
   "nbconvert_exporter": "python",
   "pygments_lexer": "ipython3",
   "version": "3.10.4"
  },
  "orig_nbformat": 4,
  "vscode": {
   "interpreter": {
    "hash": "d1219f75a05e3de399f75b6a0fa3fc1e1cfa3d08777c7149c1fd01787d780976"
   }
  }
 },
 "nbformat": 4,
 "nbformat_minor": 2
}
