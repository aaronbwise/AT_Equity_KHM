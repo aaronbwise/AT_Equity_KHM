{
 "cells": [
  {
   "cell_type": "markdown",
   "metadata": {},
   "source": [
    "# Alive & Thrive\n",
    "## Laos Data: Women Files - Preprocessing\n",
    "## Prepared by Aaron Wise; aaron@a3di.dev\n",
    "### Version: 16 August 2022"
   ]
  },
  {
   "cell_type": "code",
   "execution_count": 43,
   "metadata": {},
   "outputs": [],
   "source": [
    "from std_utils import (\n",
    "    read_csv_file,\n",
    "    generate_HHID,\n",
    "    add_total_year,\n",
    "    run_quality_assurance,\n",
    "    merge_hh_hl_data,\n",
    "    export_analyzed_data\n",
    ")\n",
    "\n",
    "from women_analysis import (\n",
    "    subset_women_file,\n",
    "    create_mother_edu,\n",
    "    create_anc_4_visits,\n",
    "    create_anc_3_components,\n",
    "    create_inst_delivery,\n",
    "    create_caesarean_del,\n",
    "    create_pnc_mother,\n",
    "    create_low_bw,\n",
    "    create_early_bf,\n",
    "    create_iron_supp,\n",
    "    divide_weight_million\n",
    ")\n",
    "\n",
    "from aw_analytics import output_mean_table"
   ]
  },
  {
   "cell_type": "markdown",
   "metadata": {},
   "source": [
    "### --- 2014 ---"
   ]
  },
  {
   "cell_type": "code",
   "execution_count": 44,
   "metadata": {},
   "outputs": [],
   "source": [
    "# Set parameters\n",
    "country = 'KHM'\n",
    "recode = 'women'\n",
    "\n",
    "# -------------------------------------------------------------------\n",
    "year = '2014'\n",
    "# -------------------------------------------------------------------"
   ]
  },
  {
   "cell_type": "code",
   "execution_count": 45,
   "metadata": {},
   "outputs": [
    {
     "name": "stdout",
     "output_type": "stream",
     "text": [
      "The file -- wm_2014.csv -- has the following shape: Rows: 17578; Columns: 22\n",
      "HHID is NOT unique\n",
      "Drop columns if all values are NaN...\n",
      "Updated -- Rows: 17578; Columns: 25\n",
      "Checking if any rows are duplicates...\n",
      "The are no duplicate rows\n",
      "The number of mothers with a birth in the past two years is: 2899\n"
     ]
    },
    {
     "name": "stderr",
     "output_type": "stream",
     "text": [
      "c:\\Users\\Lindsey\\OneDrive - A3DI\\Alive & Thrive\\4_Country_III\\women_analysis.py:413: SettingWithCopyWarning: \n",
      "A value is trying to be set on a copy of a slice from a DataFrame.\n",
      "Try using .loc[row_indexer,col_indexer] = value instead\n",
      "\n",
      "See the caveats in the documentation: https://pandas.pydata.org/pandas-docs/stable/user_guide/indexing.html#returning-a-view-versus-a-copy\n",
      "  df['two_years'] = np.where(df[var_doi] - df[var_dob] <= 23, 100, 0)\n"
     ]
    }
   ],
   "source": [
    "# Read file\n",
    "df = read_csv_file(country, year, recode)\n",
    "\n",
    "# Create HHID to facilitate merge of HH and HL data\n",
    "generate_HHID(df, country, year, recode)\n",
    "\n",
    "# Add Total, Year\n",
    "add_total_year(df, year)\n",
    "\n",
    "# Run quality assurance\n",
    "run_quality_assurance(df)\n",
    "\n",
    "# Merge in HH and HL data\n",
    "df = merge_hh_hl_data(df, country, year)\n",
    "\n",
    "# Subset women file\n",
    "df = subset_women_file(df, country, year)"
   ]
  },
  {
   "cell_type": "markdown",
   "metadata": {},
   "source": [
    "#### Create Indicators"
   ]
  },
  {
   "cell_type": "code",
   "execution_count": 46,
   "metadata": {},
   "outputs": [
    {
     "name": "stderr",
     "output_type": "stream",
     "text": [
      "c:\\Users\\Lindsey\\OneDrive - A3DI\\Alive & Thrive\\4_Country_III\\women_analysis.py:251: SettingWithCopyWarning: \n",
      "A value is trying to be set on a copy of a slice from a DataFrame.\n",
      "Try using .loc[row_indexer,col_indexer] = value instead\n",
      "\n",
      "See the caveats in the documentation: https://pandas.pydata.org/pandas-docs/stable/user_guide/indexing.html#returning-a-view-versus-a-copy\n",
      "  df[\"mother_edu\"] = np.where((df[var_mother_edu].isnull()) | (df[var_mother_edu].isin(mother_edu_ece_values)), \"Mother Edu: None/ECE\",\n",
      "c:\\Users\\Lindsey\\OneDrive - A3DI\\Alive & Thrive\\4_Country_III\\women_analysis.py:303: SettingWithCopyWarning: \n",
      "A value is trying to be set on a copy of a slice from a DataFrame.\n",
      "Try using .loc[row_indexer,col_indexer] = value instead\n",
      "\n",
      "See the caveats in the documentation: https://pandas.pydata.org/pandas-docs/stable/user_guide/indexing.html#returning-a-view-versus-a-copy\n",
      "  df[\"wmweight\"] = df[var_weight] / 1000000\n"
     ]
    }
   ],
   "source": [
    "# --- Create Mother edu [mother_edu] --- #\n",
    "df = create_mother_edu(df, country, year, recode)\n",
    "\n",
    "# Update weight\n",
    "df = divide_weight_million(df, country, year, recode)"
   ]
  },
  {
   "cell_type": "code",
   "execution_count": 47,
   "metadata": {},
   "outputs": [
    {
     "name": "stdout",
     "output_type": "stream",
     "text": [
      "agg_value_prop_dict is: \n",
      " {'Larger than average': 0.006701631701631702, 'Smaller than average': 0.42297979797979796, 'Average': 0.06353021978021978, 'Very large': 0.0, 'Very small': 0.8026315789473685, \"Don't know\": 0.0, 'nan': nan}\n"
     ]
    },
    {
     "name": "stderr",
     "output_type": "stream",
     "text": [
      "c:\\Users\\Lindsey\\OneDrive - A3DI\\Alive & Thrive\\4_Country_III\\women_analysis.py:205: RuntimeWarning: invalid value encountered in double_scalars\n",
      "  agg_value_prop_dict[agg_value] = numerator / denominator\n"
     ]
    }
   ],
   "source": [
    "# --- ANC 4+ visits [anc_4_visits] --- #\n",
    "df = create_anc_4_visits(df, country, year)\n",
    "\n",
    "# --- ANC components [anc_3_components] --- #\n",
    "df = create_anc_3_components(df, country, year)\n",
    "\n",
    "# --- Institutional [inst_delivery] --- #\n",
    "df = create_inst_delivery(df, country, year)\n",
    "\n",
    "# --- Caesarean Delivery [caesarean_del] --- #\n",
    "df = create_caesarean_del(df, country, year)\n",
    "\n",
    "# Post-natal Health Check (mother) [pnc_mother]\n",
    "df = create_pnc_mother(df, country, year)\n",
    "\n",
    "# --- Low birthweight [low_bw] --- #\n",
    "df = create_low_bw(df, country, year)\n",
    "\n",
    "# --- Early Initiation BF [early_bf] --- #\n",
    "df = create_early_bf(df, country, year)\n",
    "\n",
    "# --- Iron Supplementation [iron_supp] --- #\n",
    "df = create_iron_supp(df, country, year)"
   ]
  },
  {
   "cell_type": "markdown",
   "metadata": {},
   "source": [
    "### Export working variables"
   ]
  },
  {
   "cell_type": "code",
   "execution_count": 48,
   "metadata": {},
   "outputs": [],
   "source": [
    "export_analyzed_data(df, country, year, recode)"
   ]
  },
  {
   "cell_type": "markdown",
   "metadata": {},
   "source": [
    "### --- 2010 ---"
   ]
  },
  {
   "cell_type": "code",
   "execution_count": 49,
   "metadata": {},
   "outputs": [],
   "source": [
    "# Set parameters\n",
    "country = 'KHM'\n",
    "recode = 'women'\n",
    "\n",
    "# -------------------------------------------------------------------\n",
    "year = '2010'\n",
    "# -------------------------------------------------------------------"
   ]
  },
  {
   "cell_type": "code",
   "execution_count": 50,
   "metadata": {},
   "outputs": [
    {
     "name": "stdout",
     "output_type": "stream",
     "text": [
      "The file -- wm_2010.csv -- has the following shape: Rows: 18754; Columns: 25\n",
      "HHID is NOT unique\n",
      "Drop columns if all values are NaN...\n",
      "Updated -- Rows: 18754; Columns: 28\n",
      "Checking if any rows are duplicates...\n",
      "The are no duplicate rows\n",
      "The number of mothers with a birth in the past two years is: 3215\n"
     ]
    }
   ],
   "source": [
    "# Read file\n",
    "df = read_csv_file(country, year, recode)\n",
    "\n",
    "# Create HHID to facilitate merge of HH and HL data\n",
    "generate_HHID(df, country, year, recode)\n",
    "\n",
    "# Add Total, Year\n",
    "add_total_year(df, year)\n",
    "\n",
    "# Run quality assurance\n",
    "run_quality_assurance(df)\n",
    "\n",
    "# Merge in HH and HL data\n",
    "df = merge_hh_hl_data(df, country, year)\n",
    "\n",
    "# Subset women file\n",
    "df = subset_women_file(df, country, year)"
   ]
  },
  {
   "cell_type": "markdown",
   "metadata": {},
   "source": [
    "#### Create Indicators"
   ]
  },
  {
   "cell_type": "code",
   "execution_count": 51,
   "metadata": {},
   "outputs": [],
   "source": [
    "# --- Create Mother edu [mother_edu] --- #\n",
    "df = create_mother_edu(df, country, year, recode)\n",
    "\n",
    "# Update weight\n",
    "df = divide_weight_million(df, country, year, recode)"
   ]
  },
  {
   "cell_type": "code",
   "execution_count": 52,
   "metadata": {},
   "outputs": [
    {
     "name": "stdout",
     "output_type": "stream",
     "text": [
      "agg_value_prop_dict is: \n",
      " {'Very small': 0.8579545454545454, 'Smaller than average': 0.3225388601036269, 'Larger than average': 0.008637709772951628, 'Average': 0.08280685920577617, 'Very large': 0.0016891891891891893, 'DK': 0.25, 'nan': nan}\n"
     ]
    },
    {
     "name": "stderr",
     "output_type": "stream",
     "text": [
      "c:\\Users\\Lindsey\\OneDrive - A3DI\\Alive & Thrive\\4_Country_III\\women_analysis.py:205: RuntimeWarning: invalid value encountered in double_scalars\n",
      "  agg_value_prop_dict[agg_value] = numerator / denominator\n"
     ]
    }
   ],
   "source": [
    "# --- ANC 4+ visits [anc_4_visits] --- #\n",
    "df = create_anc_4_visits(df, country, year)\n",
    "\n",
    "# --- ANC components [anc_3_components] --- #\n",
    "df = create_anc_3_components(df, country, year)\n",
    "\n",
    "# --- Institutional [inst_delivery] --- #\n",
    "df = create_inst_delivery(df, country, year)\n",
    "\n",
    "# --- Caesarean Delivery [caesarean_del] --- #\n",
    "df = create_caesarean_del(df, country, year)\n",
    "\n",
    "# Post-natal Health Check (mother) [pnc_mother]\n",
    "df = create_pnc_mother(df, country, year)\n",
    "\n",
    "# --- Low birthweight [low_bw] --- #\n",
    "df = create_low_bw(df, country, year)\n",
    "\n",
    "# --- Early Initiation BF [early_bf] --- #\n",
    "df = create_early_bf(df, country, year)\n",
    "\n",
    "# --- Iron Supplementation [iron_supp] --- #\n",
    "df = create_iron_supp(df, country, year)"
   ]
  },
  {
   "cell_type": "markdown",
   "metadata": {},
   "source": [
    "### Export working variables"
   ]
  },
  {
   "cell_type": "code",
   "execution_count": 53,
   "metadata": {},
   "outputs": [],
   "source": [
    "export_analyzed_data(df, country, year, recode)"
   ]
  },
  {
   "cell_type": "markdown",
   "metadata": {},
   "source": [
    "### --- 2005 ---"
   ]
  },
  {
   "cell_type": "code",
   "execution_count": 54,
   "metadata": {},
   "outputs": [],
   "source": [
    "# Set parameters\n",
    "country = 'KHM'\n",
    "recode = 'women'\n",
    "\n",
    "# -------------------------------------------------------------------\n",
    "year = '2005'\n",
    "# -------------------------------------------------------------------"
   ]
  },
  {
   "cell_type": "code",
   "execution_count": 55,
   "metadata": {},
   "outputs": [
    {
     "name": "stdout",
     "output_type": "stream",
     "text": [
      "The file -- wm_2005.csv -- has the following shape: Rows: 16823; Columns: 25\n",
      "HHID is NOT unique\n",
      "Drop columns if all values are NaN...\n",
      "Updated -- Rows: 16823; Columns: 28\n",
      "Checking if any rows are duplicates...\n",
      "The are no duplicate rows\n",
      "The number of mothers with a birth in the past two years is: 3268\n"
     ]
    },
    {
     "name": "stderr",
     "output_type": "stream",
     "text": [
      "c:\\Users\\Lindsey\\OneDrive - A3DI\\Alive & Thrive\\4_Country_III\\women_analysis.py:413: SettingWithCopyWarning: \n",
      "A value is trying to be set on a copy of a slice from a DataFrame.\n",
      "Try using .loc[row_indexer,col_indexer] = value instead\n",
      "\n",
      "See the caveats in the documentation: https://pandas.pydata.org/pandas-docs/stable/user_guide/indexing.html#returning-a-view-versus-a-copy\n",
      "  df['two_years'] = np.where(df[var_doi] - df[var_dob] <= 23, 100, 0)\n"
     ]
    }
   ],
   "source": [
    "# Read file\n",
    "df = read_csv_file(country, year, recode)\n",
    "\n",
    "# Create HHID to facilitate merge of HH and HL data\n",
    "generate_HHID(df, country, year, recode)\n",
    "\n",
    "# Add Total, Year\n",
    "add_total_year(df, year)\n",
    "\n",
    "# Run quality assurance\n",
    "run_quality_assurance(df)\n",
    "\n",
    "# Merge in HH and HL data\n",
    "df = merge_hh_hl_data(df, country, year)\n",
    "\n",
    "# Subset women file\n",
    "df = subset_women_file(df, country, year)"
   ]
  },
  {
   "cell_type": "markdown",
   "metadata": {},
   "source": [
    "#### Create Indicators"
   ]
  },
  {
   "cell_type": "code",
   "execution_count": 56,
   "metadata": {},
   "outputs": [
    {
     "name": "stderr",
     "output_type": "stream",
     "text": [
      "c:\\Users\\Lindsey\\OneDrive - A3DI\\Alive & Thrive\\4_Country_III\\women_analysis.py:251: SettingWithCopyWarning: \n",
      "A value is trying to be set on a copy of a slice from a DataFrame.\n",
      "Try using .loc[row_indexer,col_indexer] = value instead\n",
      "\n",
      "See the caveats in the documentation: https://pandas.pydata.org/pandas-docs/stable/user_guide/indexing.html#returning-a-view-versus-a-copy\n",
      "  df[\"mother_edu\"] = np.where((df[var_mother_edu].isnull()) | (df[var_mother_edu].isin(mother_edu_ece_values)), \"Mother Edu: None/ECE\",\n",
      "c:\\Users\\Lindsey\\OneDrive - A3DI\\Alive & Thrive\\4_Country_III\\women_analysis.py:303: SettingWithCopyWarning: \n",
      "A value is trying to be set on a copy of a slice from a DataFrame.\n",
      "Try using .loc[row_indexer,col_indexer] = value instead\n",
      "\n",
      "See the caveats in the documentation: https://pandas.pydata.org/pandas-docs/stable/user_guide/indexing.html#returning-a-view-versus-a-copy\n",
      "  df[\"wmweight\"] = df[var_weight] / 1000000\n"
     ]
    }
   ],
   "source": [
    "# --- Create Mother edu [mother_edu] --- #\n",
    "df = create_mother_edu(df, country, year, recode)\n",
    "\n",
    "# Update weight\n",
    "df = divide_weight_million(df, country, year, recode)"
   ]
  },
  {
   "cell_type": "code",
   "execution_count": 57,
   "metadata": {},
   "outputs": [
    {
     "name": "stdout",
     "output_type": "stream",
     "text": [
      "agg_value_prop_dict is: \n",
      " {'Average': 0.10193726937269372, 'Larger than average': 0.011180679785330949, 'Very small': 0.8095238095238095, 'Smaller than average': 0.4425, 'Very large': 0.0, \"Don't know\": nan}\n"
     ]
    },
    {
     "name": "stderr",
     "output_type": "stream",
     "text": [
      "c:\\Users\\Lindsey\\OneDrive - A3DI\\Alive & Thrive\\4_Country_III\\women_analysis.py:205: RuntimeWarning: invalid value encountered in double_scalars\n",
      "  agg_value_prop_dict[agg_value] = numerator / denominator\n"
     ]
    }
   ],
   "source": [
    "# --- ANC 4+ visits [anc_4_visits] --- #\n",
    "df = create_anc_4_visits(df, country, year)\n",
    "\n",
    "# --- ANC components [anc_3_components] --- #\n",
    "df = create_anc_3_components(df, country, year)\n",
    "\n",
    "# --- Institutional [inst_delivery] --- #\n",
    "df = create_inst_delivery(df, country, year)\n",
    "\n",
    "# --- Caesarean Delivery [caesarean_del] --- #\n",
    "df = create_caesarean_del(df, country, year)\n",
    "\n",
    "# Post-natal Health Check (mother) [pnc_mother]\n",
    "df = create_pnc_mother(df, country, year)\n",
    "\n",
    "# --- Low birthweight [low_bw] --- #\n",
    "df = create_low_bw(df, country, year)\n",
    "\n",
    "# --- Early Initiation BF [early_bf] --- #\n",
    "df = create_early_bf(df, country, year)\n",
    "\n",
    "# --- Iron Supplementation [iron_supp] --- #\n",
    "df = create_iron_supp(df, country, year)"
   ]
  },
  {
   "cell_type": "markdown",
   "metadata": {},
   "source": [
    "### Export working variables"
   ]
  },
  {
   "cell_type": "code",
   "execution_count": 58,
   "metadata": {},
   "outputs": [],
   "source": [
    "export_analyzed_data(df, country, year, recode)"
   ]
  },
  {
   "cell_type": "markdown",
   "metadata": {},
   "source": [
    "### --- 2000 ---"
   ]
  },
  {
   "cell_type": "code",
   "execution_count": 59,
   "metadata": {},
   "outputs": [],
   "source": [
    "# Set parameters\n",
    "country = 'KHM'\n",
    "recode = 'women'\n",
    "\n",
    "# -------------------------------------------------------------------\n",
    "year = '2000'\n",
    "# -------------------------------------------------------------------"
   ]
  },
  {
   "cell_type": "code",
   "execution_count": 60,
   "metadata": {},
   "outputs": [
    {
     "name": "stdout",
     "output_type": "stream",
     "text": [
      "The file -- wm_2000.csv -- has the following shape: Rows: 15351; Columns: 19\n",
      "HHID is NOT unique\n",
      "Drop columns if all values are NaN...\n",
      "Updated -- Rows: 15351; Columns: 23\n",
      "Checking if any rows are duplicates...\n",
      "The are no duplicate rows\n",
      "The number of mothers with a birth in the past two years is: 3210\n"
     ]
    },
    {
     "name": "stderr",
     "output_type": "stream",
     "text": [
      "c:\\Users\\Lindsey\\OneDrive - A3DI\\Alive & Thrive\\4_Country_III\\women_analysis.py:413: SettingWithCopyWarning: \n",
      "A value is trying to be set on a copy of a slice from a DataFrame.\n",
      "Try using .loc[row_indexer,col_indexer] = value instead\n",
      "\n",
      "See the caveats in the documentation: https://pandas.pydata.org/pandas-docs/stable/user_guide/indexing.html#returning-a-view-versus-a-copy\n",
      "  df['two_years'] = np.where(df[var_doi] - df[var_dob] <= 23, 100, 0)\n"
     ]
    }
   ],
   "source": [
    "# Read file\n",
    "df = read_csv_file(country, year, recode)\n",
    "\n",
    "# Create HHID to facilitate merge of HH and HL data\n",
    "generate_HHID(df, country, year, recode)\n",
    "\n",
    "# Add Total, Year\n",
    "add_total_year(df, year)\n",
    "\n",
    "# Run quality assurance\n",
    "run_quality_assurance(df)\n",
    "\n",
    "# Merge in HH and HL data\n",
    "df = merge_hh_hl_data(df, country, year)\n",
    "\n",
    "# Subset women file\n",
    "df = subset_women_file(df, country, year)"
   ]
  },
  {
   "cell_type": "markdown",
   "metadata": {},
   "source": [
    "#### Create Indicators"
   ]
  },
  {
   "cell_type": "code",
   "execution_count": 61,
   "metadata": {},
   "outputs": [
    {
     "name": "stderr",
     "output_type": "stream",
     "text": [
      "c:\\Users\\Lindsey\\OneDrive - A3DI\\Alive & Thrive\\4_Country_III\\women_analysis.py:251: SettingWithCopyWarning: \n",
      "A value is trying to be set on a copy of a slice from a DataFrame.\n",
      "Try using .loc[row_indexer,col_indexer] = value instead\n",
      "\n",
      "See the caveats in the documentation: https://pandas.pydata.org/pandas-docs/stable/user_guide/indexing.html#returning-a-view-versus-a-copy\n",
      "  df[\"mother_edu\"] = np.where((df[var_mother_edu].isnull()) | (df[var_mother_edu].isin(mother_edu_ece_values)), \"Mother Edu: None/ECE\",\n",
      "c:\\Users\\Lindsey\\OneDrive - A3DI\\Alive & Thrive\\4_Country_III\\women_analysis.py:303: SettingWithCopyWarning: \n",
      "A value is trying to be set on a copy of a slice from a DataFrame.\n",
      "Try using .loc[row_indexer,col_indexer] = value instead\n",
      "\n",
      "See the caveats in the documentation: https://pandas.pydata.org/pandas-docs/stable/user_guide/indexing.html#returning-a-view-versus-a-copy\n",
      "  df[\"wmweight\"] = df[var_weight] / 1000000\n"
     ]
    }
   ],
   "source": [
    "# --- Create Mother edu [mother_edu] --- #\n",
    "df = create_mother_edu(df, country, year, recode)\n",
    "\n",
    "# Update weight\n",
    "df = divide_weight_million(df, country, year, recode)"
   ]
  },
  {
   "cell_type": "code",
   "execution_count": 62,
   "metadata": {},
   "outputs": [
    {
     "name": "stderr",
     "output_type": "stream",
     "text": [
      "c:\\Users\\Lindsey\\OneDrive - A3DI\\Alive & Thrive\\4_Country_III\\women_analysis.py:29: SettingWithCopyWarning: \n",
      "A value is trying to be set on a copy of a slice from a DataFrame.\n",
      "Try using .loc[row_indexer,col_indexer] = value instead\n",
      "\n",
      "See the caveats in the documentation: https://pandas.pydata.org/pandas-docs/stable/user_guide/indexing.html#returning-a-view-versus-a-copy\n",
      "  df[var_anc_4] = df[var_anc_4].astype(str)\n",
      "c:\\Users\\Lindsey\\OneDrive - A3DI\\Alive & Thrive\\4_Country_III\\women_analysis.py:36: SettingWithCopyWarning: \n",
      "A value is trying to be set on a copy of a slice from a DataFrame.\n",
      "Try using .loc[row_indexer,col_indexer] = value instead\n",
      "\n",
      "See the caveats in the documentation: https://pandas.pydata.org/pandas-docs/stable/user_guide/indexing.html#returning-a-view-versus-a-copy\n",
      "  df[var_anc_4] = pd.to_numeric(df[var_anc_4], errors=\"coerce\")\n",
      "c:\\Users\\Lindsey\\OneDrive - A3DI\\Alive & Thrive\\4_Country_III\\women_analysis.py:39: SettingWithCopyWarning: \n",
      "A value is trying to be set on a copy of a slice from a DataFrame.\n",
      "Try using .loc[row_indexer,col_indexer] = value instead\n",
      "\n",
      "See the caveats in the documentation: https://pandas.pydata.org/pandas-docs/stable/user_guide/indexing.html#returning-a-view-versus-a-copy\n",
      "  df[\"anc_4_visits\"] = np.where((df[var_anc_4] >= 4) & (df[var_anc_4] < 99), 100, 0)\n",
      "c:\\Users\\Lindsey\\OneDrive - A3DI\\Alive & Thrive\\4_Country_III\\women_analysis.py:59: SettingWithCopyWarning: \n",
      "A value is trying to be set on a copy of a slice from a DataFrame.\n",
      "Try using .loc[row_indexer,col_indexer] = value instead\n",
      "\n",
      "See the caveats in the documentation: https://pandas.pydata.org/pandas-docs/stable/user_guide/indexing.html#returning-a-view-versus-a-copy\n",
      "  df[\"anc_3_components\"] = np.where(df[var_anc_3_comp_cols].isin(anc_3_comp_values).all(axis=1), 100, 0)\n",
      "c:\\Users\\Lindsey\\OneDrive - A3DI\\Alive & Thrive\\4_Country_III\\women_analysis.py:75: SettingWithCopyWarning: \n",
      "A value is trying to be set on a copy of a slice from a DataFrame.\n",
      "Try using .loc[row_indexer,col_indexer] = value instead\n",
      "\n",
      "See the caveats in the documentation: https://pandas.pydata.org/pandas-docs/stable/user_guide/indexing.html#returning-a-view-versus-a-copy\n",
      "  df[\"inst_delivery\"] = np.where(df[var_inst_delivery].isin(inst_delivery_values), 100, 0)\n",
      "c:\\Users\\Lindsey\\OneDrive - A3DI\\Alive & Thrive\\4_Country_III\\women_analysis.py:91: SettingWithCopyWarning: \n",
      "A value is trying to be set on a copy of a slice from a DataFrame.\n",
      "Try using .loc[row_indexer,col_indexer] = value instead\n",
      "\n",
      "See the caveats in the documentation: https://pandas.pydata.org/pandas-docs/stable/user_guide/indexing.html#returning-a-view-versus-a-copy\n",
      "  df[\"caesarean_del\"] = np.where(df[var_caesarean_del].isin(caesarean_del_values), 100, 0)\n",
      "c:\\Users\\Lindsey\\OneDrive - A3DI\\Alive & Thrive\\4_Country_III\\women_analysis.py:163: SettingWithCopyWarning: \n",
      "A value is trying to be set on a copy of a slice from a DataFrame.\n",
      "Try using .loc[row_indexer,col_indexer] = value instead\n",
      "\n",
      "See the caveats in the documentation: https://pandas.pydata.org/pandas-docs/stable/user_guide/indexing.html#returning-a-view-versus-a-copy\n",
      "  df[var_birth_size] = df[var_birth_size].astype(str)\n",
      "c:\\Users\\Lindsey\\OneDrive - A3DI\\Alive & Thrive\\4_Country_III\\women_analysis.py:164: SettingWithCopyWarning: \n",
      "A value is trying to be set on a copy of a slice from a DataFrame.\n",
      "Try using .loc[row_indexer,col_indexer] = value instead\n",
      "\n",
      "See the caveats in the documentation: https://pandas.pydata.org/pandas-docs/stable/user_guide/indexing.html#returning-a-view-versus-a-copy\n",
      "  df[var_birth_weight] = df[var_birth_weight].astype(str)\n",
      "c:\\Users\\Lindsey\\OneDrive - A3DI\\Alive & Thrive\\4_Country_III\\women_analysis.py:167: SettingWithCopyWarning: \n",
      "A value is trying to be set on a copy of a slice from a DataFrame.\n",
      "Try using .loc[row_indexer,col_indexer] = value instead\n",
      "\n",
      "See the caveats in the documentation: https://pandas.pydata.org/pandas-docs/stable/user_guide/indexing.html#returning-a-view-versus-a-copy\n",
      "  df[var_birth_weight] = pd.to_numeric(df[var_birth_weight], errors=\"coerce\")\n",
      "c:\\Users\\Lindsey\\OneDrive - A3DI\\Alive & Thrive\\4_Country_III\\women_analysis.py:362: SettingWithCopyWarning: \n",
      "A value is trying to be set on a copy of a slice from a DataFrame.\n",
      "Try using .loc[row_indexer,col_indexer] = value instead\n",
      "\n",
      "See the caveats in the documentation: https://pandas.pydata.org/pandas-docs/stable/user_guide/indexing.html#returning-a-view-versus-a-copy\n",
      "  df[var_birth_weight] = df[var_birth_weight] / 1000\n",
      "c:\\Users\\Lindsey\\OneDrive - A3DI\\Alive & Thrive\\4_Country_III\\women_analysis.py:173: SettingWithCopyWarning: \n",
      "A value is trying to be set on a copy of a slice from a DataFrame.\n",
      "Try using .loc[row_indexer,col_indexer] = value instead\n",
      "\n",
      "See the caveats in the documentation: https://pandas.pydata.org/pandas-docs/stable/user_guide/indexing.html#returning-a-view-versus-a-copy\n",
      "  df['bw_less_25'] = np.where(df[var_birth_weight] < 2.5, 1, np.where(df[var_birth_weight].isnull(), np.nan, 0))\n",
      "c:\\Users\\Lindsey\\OneDrive - A3DI\\Alive & Thrive\\4_Country_III\\women_analysis.py:176: SettingWithCopyWarning: \n",
      "A value is trying to be set on a copy of a slice from a DataFrame.\n",
      "Try using .loc[row_indexer,col_indexer] = value instead\n",
      "\n",
      "See the caveats in the documentation: https://pandas.pydata.org/pandas-docs/stable/user_guide/indexing.html#returning-a-view-versus-a-copy\n",
      "  df['bw_equal_25'] = np.where(df[var_birth_weight] == 2.5, 1, np.where(df[var_birth_weight].isnull(), np.nan, 0))\n",
      "c:\\Users\\Lindsey\\OneDrive - A3DI\\Alive & Thrive\\4_Country_III\\women_analysis.py:179: SettingWithCopyWarning: \n",
      "A value is trying to be set on a copy of a slice from a DataFrame.\n",
      "Try using .loc[row_indexer,col_indexer] = value instead\n",
      "\n",
      "See the caveats in the documentation: https://pandas.pydata.org/pandas-docs/stable/user_guide/indexing.html#returning-a-view-versus-a-copy\n",
      "  df['bw_available'] = np.where(df[var_birth_weight].isnull(), 0, 1)\n"
     ]
    },
    {
     "name": "stdout",
     "output_type": "stream",
     "text": [
      "agg_value_prop_dict is: \n",
      " {'Average': 0.05829015544041451, 'Very large': 0.0, 'Larger than average': 0.0012953367875647669, 'Smaller than average': 0.47619047619047616, 'DK': nan, 'Very small': 0.8, 'nan': nan}\n"
     ]
    },
    {
     "name": "stderr",
     "output_type": "stream",
     "text": [
      "c:\\Users\\Lindsey\\OneDrive - A3DI\\Alive & Thrive\\4_Country_III\\women_analysis.py:205: RuntimeWarning: invalid value encountered in double_scalars\n",
      "  agg_value_prop_dict[agg_value] = numerator / denominator\n",
      "c:\\Users\\Lindsey\\OneDrive - A3DI\\Alive & Thrive\\4_Country_III\\women_analysis.py:187: SettingWithCopyWarning: \n",
      "A value is trying to be set on a copy of a slice from a DataFrame.\n",
      "Try using .loc[row_indexer,col_indexer] = value instead\n",
      "\n",
      "See the caveats in the documentation: https://pandas.pydata.org/pandas-docs/stable/user_guide/indexing.html#returning-a-view-versus-a-copy\n",
      "  df['low_bw'] = [agg_value_prop_dict[x] * 100 for x in df[var_birth_size]]\n",
      "c:\\Users\\Lindsey\\OneDrive - A3DI\\Alive & Thrive\\4_Country_III\\women_analysis.py:149: SettingWithCopyWarning: \n",
      "A value is trying to be set on a copy of a slice from a DataFrame.\n",
      "Try using .loc[row_indexer,col_indexer] = value instead\n",
      "\n",
      "See the caveats in the documentation: https://pandas.pydata.org/pandas-docs/stable/user_guide/indexing.html#returning-a-view-versus-a-copy\n",
      "  df[\"early_bf\"] = np.where((df[var_time_cat].isin(time_cat_values)), 100, 0)\n",
      "c:\\Users\\Lindsey\\OneDrive - A3DI\\Alive & Thrive\\4_Country_III\\women_analysis.py:224: SettingWithCopyWarning: \n",
      "A value is trying to be set on a copy of a slice from a DataFrame.\n",
      "Try using .loc[row_indexer,col_indexer] = value instead\n",
      "\n",
      "See the caveats in the documentation: https://pandas.pydata.org/pandas-docs/stable/user_guide/indexing.html#returning-a-view-versus-a-copy\n",
      "  df[\"iron_supp\"] = np.where(df[var_iron_supp] == iron_supp_values, 100, 0)\n"
     ]
    }
   ],
   "source": [
    "# --- ANC 4+ visits [anc_4_visits] --- #\n",
    "df = create_anc_4_visits(df, country, year)\n",
    "\n",
    "# --- ANC components [anc_3_components] --- #\n",
    "df = create_anc_3_components(df, country, year)\n",
    "\n",
    "# --- Institutional [inst_delivery] --- #\n",
    "df = create_inst_delivery(df, country, year)\n",
    "\n",
    "# --- Caesarean Delivery [caesarean_del] --- #\n",
    "df = create_caesarean_del(df, country, year)\n",
    "\n",
    "# # Post-natal Health Check (mother) [pnc_mother]\n",
    "# df = create_pnc_mother(df, country, year)\n",
    "\n",
    "# --- Low birthweight [low_bw] --- #\n",
    "df = create_low_bw(df, country, year)\n",
    "\n",
    "# --- Early Initiation BF [early_bf] --- #\n",
    "df = create_early_bf(df, country, year)\n",
    "\n",
    "# --- Iron Supplementation [iron_supp] --- #\n",
    "df = create_iron_supp(df, country, year)"
   ]
  },
  {
   "cell_type": "markdown",
   "metadata": {},
   "source": [
    "### Export working variables"
   ]
  },
  {
   "cell_type": "code",
   "execution_count": 63,
   "metadata": {},
   "outputs": [],
   "source": [
    "export_analyzed_data(df, country, year, recode)"
   ]
  },
  {
   "cell_type": "code",
   "execution_count": null,
   "metadata": {},
   "outputs": [],
   "source": [
    "var = 'low_bw'\n",
    "ind_vars = ['residence']\n",
    "wt = 'wmweight'\n",
    "\n",
    "output_mean_table(df, var, ind_vars, wt)"
   ]
  }
 ],
 "metadata": {
  "interpreter": {
   "hash": "d1219f75a05e3de399f75b6a0fa3fc1e1cfa3d08777c7149c1fd01787d780976"
  },
  "kernelspec": {
   "display_name": "Python 3.10.4 64-bit",
   "language": "python",
   "name": "python3"
  },
  "language_info": {
   "codemirror_mode": {
    "name": "ipython",
    "version": 3
   },
   "file_extension": ".py",
   "mimetype": "text/x-python",
   "name": "python",
   "nbconvert_exporter": "python",
   "pygments_lexer": "ipython3",
   "version": "3.10.4"
  },
  "orig_nbformat": 4
 },
 "nbformat": 4,
 "nbformat_minor": 2
}
