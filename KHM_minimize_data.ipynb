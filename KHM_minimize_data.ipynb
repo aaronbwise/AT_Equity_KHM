{
 "cells": [
  {
   "cell_type": "code",
   "execution_count": 1,
   "metadata": {},
   "outputs": [],
   "source": [
    "from std_utils import read_spss_file"
   ]
  },
  {
   "cell_type": "markdown",
   "metadata": {},
   "source": [
    "### Women"
   ]
  },
  {
   "cell_type": "code",
   "execution_count": 2,
   "metadata": {},
   "outputs": [],
   "source": [
    "# Set parameters\n",
    "country = 'KHM'\n",
    "recode = 'women'\n",
    "\n",
    "# -------------------------------------------------------------------\n",
    "year = '2000'\n",
    "# -------------------------------------------------------------------\n",
    "\n"
   ]
  },
  {
   "cell_type": "code",
   "execution_count": 3,
   "metadata": {},
   "outputs": [
    {
     "name": "stdout",
     "output_type": "stream",
     "text": [
      "The file -- wm_2000.sav -- has the following shape: Rows: 15351; Columns: 3373\n"
     ]
    }
   ],
   "source": [
    "df = read_spss_file(country, year, recode)\n"
   ]
  },
  {
   "cell_type": "code",
   "execution_count": 4,
   "metadata": {},
   "outputs": [],
   "source": [
    "\n",
    "if year == '2014':\n",
    "    var_keep = [\"V001\", \"V002\", \"V005\", \"V008\", \"B3$01\", \"V106\", \"V015\", \"V208\", \"M14$1\", \"M42C$1\", \"M42D$1\", \"M42E$1\", \"M15$1\", \"M17$1\", \"M45$1\", \"M18$1\", \"M19$1\", \"M34$1\", \"M50$1\", \"M51$1\", \"M52$1\"]\n",
    "\n",
    "elif year in ['2010', '2005']:\n",
    "    var_keep = [\"V001\", \"V002\", \"V005\", \"V008\", \"B3$01\", \"V106\", \"V015\", \"V208\", \"M14$1\", \"M42C$1\", \"M42D$1\", \"M42E$1\", \"M15$1\", \"M17$1\", \"M45$1\", \"M18$1\", \"M19$1\", \"M34$1\", \"M62$1\", \"M63$1\", \"M64$1\", \"M66$1\", \"M67$1\", \"M68$1\"]\n",
    "\n",
    "elif year in ['2000']:\n",
    "    var_keep = [\"V001\", \"V002\", \"V005\", \"V008\", \"B3$01\", \"V106\", \"V015\", \"V208\", \"M14$1\", \"M42C$1\", \"M42D$1\", \"M42E$1\", \"M15$1\", \"M17$1\", \"M45$1\", \"M18$1\", \"M19$1\", \"M34$1\"]\n",
    "\n",
    "df_min = df[var_keep]"
   ]
  },
  {
   "cell_type": "code",
   "execution_count": 5,
   "metadata": {},
   "outputs": [],
   "source": [
    "df_min.to_csv('wm_2000.csv')"
   ]
  },
  {
   "cell_type": "code",
   "execution_count": null,
   "metadata": {},
   "outputs": [],
   "source": []
  }
 ],
 "metadata": {
  "kernelspec": {
   "display_name": "Python 3.10.4 64-bit",
   "language": "python",
   "name": "python3"
  },
  "language_info": {
   "codemirror_mode": {
    "name": "ipython",
    "version": 3
   },
   "file_extension": ".py",
   "mimetype": "text/x-python",
   "name": "python",
   "nbconvert_exporter": "python",
   "pygments_lexer": "ipython3",
   "version": "3.10.4"
  },
  "orig_nbformat": 4,
  "vscode": {
   "interpreter": {
    "hash": "d1219f75a05e3de399f75b6a0fa3fc1e1cfa3d08777c7149c1fd01787d780976"
   }
  }
 },
 "nbformat": 4,
 "nbformat_minor": 2
}
